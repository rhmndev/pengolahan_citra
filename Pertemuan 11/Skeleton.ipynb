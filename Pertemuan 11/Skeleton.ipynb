{
  "nbformat": 4,
  "nbformat_minor": 0,
  "metadata": {
    "colab": {
      "provenance": []
    },
    "kernelspec": {
      "name": "python3",
      "display_name": "Python 3"
    },
    "language_info": {
      "name": "python"
    }
  },
  "cells": [
    {
      "cell_type": "code",
      "source": [
        "import cv2\n",
        "import numpy as np\n",
        "from google.colab import files\n",
        "from google.colab.patches import cv2_imshow\n",
        "uploaded = files.upload()"
      ],
      "metadata": {
        "id": "PrBJVs0DBJg9"
      },
      "execution_count": null,
      "outputs": []
    },
    {
      "cell_type": "code",
      "source": [
        "# Read the image as a grayscale image\n",
        "img = cv2.imread('kuda.png', 0)\n",
        "cv2_imshow(img)"
      ],
      "metadata": {
        "id": "OCYgQDyyBzGh"
      },
      "execution_count": null,
      "outputs": []
    },
    {
      "cell_type": "code",
      "source": [
        "# Threshold the image\n",
        "ret,img = cv2.threshold(img, 127, 255, 0)\n",
        "\n",
        "# Step 1: Create an empty skeleton\n",
        "size = np.size(img)\n",
        "skel = np.zeros(img.shape, np.uint8)\n",
        "\n",
        "# Get a Cross Shaped Kernel\n",
        "element = cv2.getStructuringElement(cv2.MORPH_CROSS, (3,3))\n",
        "\n",
        "# Repeat steps 2-4\n",
        "while True:\n",
        "    #Step 2: Open the image\n",
        "    open = cv2.morphologyEx(img, cv2.MORPH_OPEN, element)\n",
        "    #Step 3: Substract open from the original image\n",
        "    temp = cv2.subtract(img, open)\n",
        "    #Step 4: Erode the original image and refine the skeleton\n",
        "    eroded = cv2.erode(img, element)\n",
        "    skel = cv2.bitwise_or(skel,temp)\n",
        "    img = eroded.copy()\n",
        "    # Step 5: If there are no white pixels left ie.. the image has been completely eroded, quit the loop\n",
        "    if cv2.countNonZero(img)==0:\n",
        "        break\n",
        "\n",
        "# Displaying the final skeleton\n",
        "cv2_imshow(skel)"
      ],
      "metadata": {
        "id": "W6u2CZkEBKrx"
      },
      "execution_count": null,
      "outputs": []
    },
    {
      "cell_type": "markdown",
      "source": [
        "https://medium.com/analytics-vidhya/skeletonization-in-python-using-opencv-b7fa16867331"
      ],
      "metadata": {
        "id": "cCc-RmCzFEu5"
      }
    }
  ]
}