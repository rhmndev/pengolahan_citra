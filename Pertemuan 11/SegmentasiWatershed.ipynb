{
  "nbformat": 4,
  "nbformat_minor": 0,
  "metadata": {
    "colab": {
      "provenance": []
    },
    "kernelspec": {
      "name": "python3",
      "display_name": "Python 3"
    },
    "language_info": {
      "name": "python"
    }
  },
  "cells": [
    {
      "cell_type": "code",
      "execution_count": null,
      "metadata": {
        "id": "wa-V2pS3OoZO"
      },
      "outputs": [],
      "source": [
        "from google.colab import files\n",
        "uploaded = files.upload()"
      ]
    },
    {
      "cell_type": "code",
      "source": [
        "import numpy as np\n",
        "import cv2\n",
        "from matplotlib import pyplot as plt\n",
        "from google.colab.patches import cv2_imshow\n",
        "\n",
        "img = cv2.imread('coin.jpg')\n",
        "cv2_imshow(img)"
      ],
      "metadata": {
        "id": "QNm4t7CNP1Rp"
      },
      "execution_count": null,
      "outputs": []
    },
    {
      "cell_type": "markdown",
      "source": [
        "https://docs.opencv.org/4.x/d3/db4/tutorial_py_watershed.html"
      ],
      "metadata": {
        "id": "M1q654pfDd7D"
      }
    },
    {
      "cell_type": "code",
      "source": [
        "b,g,r = cv2.split(img)\n",
        "rgb_img = cv2.merge([r,g,b])\n",
        "\n",
        "gray = cv2.cvtColor(img,cv2.COLOR_BGR2GRAY)\n",
        "ret, thresh = cv2.threshold(gray,0,255,cv2.THRESH_BINARY_INV+cv2.THRESH_OTSU)\n",
        "\n",
        "#mereduksi noise\n",
        "kernel = np.ones((2,2),np.uint8)\n",
        "#opening = cv2.morphologyEx(thresh,cv2.MORPH_OPEN,kernel, iterations = 2)\n",
        "closing = cv2.morphologyEx(thresh,cv2.MORPH_CLOSE,kernel, iterations = 2)\n",
        "\n",
        "# area latar\n",
        "latar = cv2.dilate(closing, kernel,iterations=3)\n",
        "\n",
        "# jarak objek\n",
        "jarak = cv2.distanceTransform(latar, cv2.DIST_L2,3)\n",
        "\n",
        "# Threshold\n",
        "ret, objek = cv2.threshold(jarak, 0.1*jarak.max(),255,0)\n",
        "\n",
        "plt.subplot(231),plt.imshow(rgb_img)\n",
        "plt.title('Citra Asli'), plt.xticks([]), plt.yticks([])\n",
        "plt.subplot(232),plt.imshow(thresh, 'gray')\n",
        "plt.title(\"Threshold Otsu\"), plt.xticks([]), plt.yticks([])\n",
        "\n",
        "plt.subplot(233),plt.imshow(closing, 'gray')\n",
        "plt.title(\"Morfologi  Closing\"), plt.xticks([]), plt.yticks([])\n",
        "plt.subplot(234),plt.imshow(latar, 'gray')\n",
        "plt.title(\"Dilasi\"), plt.xticks([]), plt.yticks([])\n",
        "\n",
        "plt.subplot(235),plt.imshow(jarak, 'gray')\n",
        "plt.title(\"Jarak\"), plt.xticks([]), plt.yticks([])\n",
        "plt.subplot(236),plt.imshow(objek, 'gray')\n",
        "plt.title(\"Thresholding\"), plt.xticks([]), plt.yticks([])\n",
        "\n",
        "plt.tight_layout()\n",
        "plt.show()"
      ],
      "metadata": {
        "id": "OSjET4MUafuk"
      },
      "execution_count": null,
      "outputs": []
    },
    {
      "cell_type": "markdown",
      "source": [
        "https://www.bogotobogo.com/python/OpenCV_Python/python_opencv3_Image_Watershed_Algorithm_Marker_Based_Segmentation_2.php"
      ],
      "metadata": {
        "id": "YrPgBrYbiJIC"
      }
    }
  ]
}