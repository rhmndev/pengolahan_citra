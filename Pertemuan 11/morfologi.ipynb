{
  "cells": [
    {
      "cell_type": "code",
      "execution_count": null,
      "metadata": {
        "id": "2KIyOEu7IL9A"
      },
      "outputs": [],
      "source": [
        "from google.colab import files\n",
        "uploaded = files.upload()"
      ]
    },
    {
      "cell_type": "code",
      "execution_count": null,
      "metadata": {
        "id": "U1z9anlG1mn7"
      },
      "outputs": [],
      "source": [
        "import cv2\n",
        "import numpy as np\n",
        "from google.colab.patches import cv2_imshow\n",
        "\n",
        "img = cv2.imread('jbg.jpeg',0)\n",
        "kernel = np.ones((5,5),np.uint8)\n",
        "cv2_imshow(img)"
      ]
    },
    {
      "cell_type": "code",
      "source": [
        "print(img.shape)"
      ],
      "metadata": {
        "id": "R7THE3Siwz18",
        "colab": {
          "base_uri": "https://localhost:8080/"
        },
        "outputId": "8007fc68-e72d-4ba6-d9d4-a1e3851fdf0c"
      },
      "execution_count": null,
      "outputs": [
        {
          "output_type": "stream",
          "name": "stdout",
          "text": [
            "(150, 112)\n"
          ]
        }
      ]
    },
    {
      "cell_type": "code",
      "execution_count": null,
      "metadata": {
        "id": "W7K629eK0UOh"
      },
      "outputs": [],
      "source": [
        "erosi = cv2.erode(img, kernel, iterations = 1)\n",
        "cv2_imshow(erosi)"
      ]
    },
    {
      "cell_type": "code",
      "execution_count": null,
      "metadata": {
        "id": "cgckgg3O1nWB"
      },
      "outputs": [],
      "source": [
        "dilasi = cv2.dilate(img, kernel, iterations = 1)\n",
        "cv2_imshow(dilasi)"
      ]
    },
    {
      "cell_type": "code",
      "execution_count": null,
      "metadata": {
        "id": "NIrVjXPX2SjR"
      },
      "outputs": [],
      "source": [
        "opening = cv2.morphologyEx(img, cv2.MORPH_OPEN, kernel,iterations = 1)\n",
        "result = np.hstack((img, opening))\n",
        "cv2_imshow(result)"
      ]
    },
    {
      "cell_type": "code",
      "execution_count": null,
      "metadata": {
        "id": "o9LKsC1O2Z0J"
      },
      "outputs": [],
      "source": [
        "closing = cv2.morphologyEx(img, cv2.MORPH_CLOSE, kernel,iterations=2)\n",
        "result = np.hstack((img, closing))\n",
        "cv2_imshow(result)"
      ]
    },
    {
      "cell_type": "code",
      "execution_count": null,
      "metadata": {
        "id": "h8II4Wk6dH4Q"
      },
      "outputs": [],
      "source": [
        "gradient = cv2.morphologyEx(opening, cv2.MORPH_GRADIENT, kernel)\n",
        "cv2_imshow(gradient)"
      ]
    },
    {
      "cell_type": "markdown",
      "source": [
        "https://docs.opencv.org/4.x/d9/d61/tutorial_py_morphological_ops.html"
      ],
      "metadata": {
        "id": "xNLVMs1G3u3z"
      }
    },
    {
      "cell_type": "code",
      "execution_count": null,
      "metadata": {
        "id": "JHskRj5Efvv2"
      },
      "outputs": [],
      "source": [
        "citra = cv2.imread('jalanraya.jpeg',0)\n",
        "cv2_imshow(citra)"
      ]
    },
    {
      "cell_type": "markdown",
      "metadata": {
        "id": "IoqE3ns6gQrs"
      },
      "source": [
        "Top hat menegaskan objek berwarna putih\n",
        "\n",
        "Merupakan selisih citra dengan citra opening"
      ]
    },
    {
      "cell_type": "code",
      "execution_count": null,
      "metadata": {
        "id": "a4z58qaTe8Yt"
      },
      "outputs": [],
      "source": [
        "tophat = cv2.morphologyEx(citra, cv2.MORPH_TOPHAT, kernel)\n",
        "cv2_imshow(tophat)"
      ]
    },
    {
      "cell_type": "markdown",
      "metadata": {
        "id": "KmGN0JPDgXI9"
      },
      "source": [
        "Black hat menegaskan objek berwarna hitam\n",
        "\n",
        "Merupakan selisih citra dengan citra closing"
      ]
    },
    {
      "cell_type": "code",
      "execution_count": null,
      "metadata": {
        "id": "6b-nT0KGe8rO"
      },
      "outputs": [],
      "source": [
        "blackhat = cv2.morphologyEx(citra, cv2.MORPH_BLACKHAT, kernel)\n",
        "cv2_imshow(blackhat)"
      ]
    },
    {
      "cell_type": "markdown",
      "metadata": {
        "id": "a654l1cInwc4"
      },
      "source": [
        "https://pyimagesearch.com/2021/04/28/opencv-morphological-operations/"
      ]
    }
  ],
  "metadata": {
    "colab": {
      "provenance": []
    },
    "kernelspec": {
      "display_name": "Python 3",
      "name": "python3"
    },
    "language_info": {
      "name": "python"
    }
  },
  "nbformat": 4,
  "nbformat_minor": 0
}