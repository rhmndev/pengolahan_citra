{
  "cells": [
    {
      "cell_type": "code",
      "execution_count": null,
      "metadata": {
        "id": "lAGRLnlM5IzF"
      },
      "outputs": [],
      "source": [
        "#pustaka yang dibutuhkan\n",
        "import cv2\n",
        "import numpy as np\n",
        "import matplotlib.pyplot as plt\n",
        "from google.colab.patches import cv2_imshow\n",
        "from google.colab import files"
      ]
    },
    {
      "cell_type": "code",
      "execution_count": null,
      "metadata": {
        "id": "pPM0kiyz_1Df"
      },
      "outputs": [],
      "source": [
        "#upload citra yang akan diolah\n",
        "uplot = files.upload()"
      ]
    },
    {
      "cell_type": "code",
      "execution_count": null,
      "metadata": {
        "id": "oxqi9-yNSkn5"
      },
      "outputs": [],
      "source": [
        "#membaca citra yang akan diolah\n",
        "citra = cv2.imread('capture.png')"
      ]
    },
    {
      "cell_type": "code",
      "execution_count": null,
      "metadata": {
        "id": "2FEKFqFk_31-"
      },
      "outputs": [],
      "source": [
        "f = cv2.cvtColor(citra, cv2.COLOR_BGR2GRAY)"
      ]
    },
    {
      "cell_type": "code",
      "execution_count": null,
      "metadata": {
        "id": "oWszZXk3G7kk"
      },
      "outputs": [],
      "source": [
        "plt.figure(figsize = (3,3))\n",
        "plt.imshow(f, cmap='gray')\n",
        "plt.axis('off')\n",
        "plt.show()"
      ]
    },
    {
      "cell_type": "code",
      "source": [
        "print(f.shape)"
      ],
      "metadata": {
        "id": "3eIPokst4sOn"
      },
      "execution_count": null,
      "outputs": []
    },
    {
      "cell_type": "code",
      "execution_count": null,
      "metadata": {
        "id": "dJRq6HLfFdqP"
      },
      "outputs": [],
      "source": [
        "#mengubah citra ke frekuensi/spektrum\n",
        "F = np.fft.fft2(f)\n",
        "\n",
        "plt.figure(figsize = (3,3))\n",
        "plt.imshow(np.log1p(np.abs(F)),cmap='gray')\n",
        "plt.axis('off')\n",
        "plt.show()"
      ]
    },
    {
      "cell_type": "code",
      "execution_count": null,
      "metadata": {
        "id": "3TCrliEwIeVl"
      },
      "outputs": [],
      "source": [
        "#sentralisasi\n",
        "\n",
        "Fshift = np.fft.fftshift(F)\n",
        "\n",
        "plt.figure(figsize = (3,3))\n",
        "plt.imshow(np.log1p(np.abs(Fshift)), cmap='gray')\n",
        "plt.axis('off')\n",
        "plt.show()"
      ]
    },
    {
      "cell_type": "markdown",
      "source": [
        "# Smoothing"
      ],
      "metadata": {
        "id": "HZzEo9QVSWnq"
      }
    },
    {
      "cell_type": "code",
      "execution_count": null,
      "metadata": {
        "id": "WMvE2_17In3B"
      },
      "outputs": [],
      "source": [
        "# Ideal Low pass filter\n",
        "\n",
        "M,N = f.shape\n",
        "L = np.zeros((M,N), dtype=np.float32)\n",
        "D0 = 30\n",
        "for u in range(M):\n",
        "    for v in range(N):\n",
        "        D = np.sqrt((u-M/2)**2 + (v-N/2)**2)\n",
        "        if D <= D0:\n",
        "            L[u,v] = 1\n",
        "        else:\n",
        "            L[u,v] = 0\n",
        "\n",
        "plt.figure(figsize = (3,3))\n",
        "plt.imshow(L, cmap='gray')\n",
        "plt.axis('off')\n",
        "plt.show()"
      ]
    },
    {
      "cell_type": "code",
      "execution_count": null,
      "metadata": {
        "id": "3jVOEO2wIyHo"
      },
      "outputs": [],
      "source": [
        "# aplikasi Ideal Low pass filter ke citra\n",
        "\n",
        "Gshift = Fshift * L\n",
        "\n",
        "plt.figure(figsize = (3,3))\n",
        "plt.imshow(np.log1p(np.abs(Gshift)),cmap='gray')\n",
        "plt.axis('off')\n",
        "plt.show()\n"
      ]
    },
    {
      "cell_type": "code",
      "execution_count": null,
      "metadata": {
        "id": "hleaSMQyI4Fb"
      },
      "outputs": [],
      "source": [
        "# desentralisasi (Inverse Fourier Transform)\n",
        "\n",
        "G = np.fft.ifftshift(Gshift)\n",
        "\n",
        "plt.figure(figsize = (3,3))\n",
        "plt.imshow(np.log1p(np.abs(G)),cmap='gray')\n",
        "plt.axis('off')\n",
        "plt.show()"
      ]
    },
    {
      "cell_type": "code",
      "execution_count": null,
      "metadata": {
        "id": "-6CirwCuJFqJ"
      },
      "outputs": [],
      "source": [
        "#mengubah frekuensi ke citra\n",
        "\n",
        "g = np.abs(np.fft.ifft2(G))\n",
        "\n",
        "plt.figure(figsize = (3,3))\n",
        "plt.imshow(g, cmap='gray')\n",
        "plt.axis('off')\n",
        "plt.show()"
      ]
    },
    {
      "cell_type": "code",
      "execution_count": null,
      "metadata": {
        "id": "JM0R6wJ3L-Nw"
      },
      "outputs": [],
      "source": [
        "plt.subplot(1, 2, 1)\n",
        "plt.title(\"Citra Asal\")\n",
        "plt.imshow(f,cmap='gray')\n",
        "plt.axis('off')\n",
        "\n",
        "plt.subplot(1, 2, 2)\n",
        "plt.title(\"Citra Hasil\")\n",
        "plt.imshow(g,cmap='gray')\n",
        "plt.axis('off');"
      ]
    },
    {
      "cell_type": "markdown",
      "source": [
        "# Sharpening"
      ],
      "metadata": {
        "id": "9whifW0gSPMq"
      }
    },
    {
      "cell_type": "code",
      "execution_count": null,
      "metadata": {
        "id": "wqV1un6AONiO"
      },
      "outputs": [],
      "source": [
        "H = 1 - L\n",
        "#Filter Highpass merupakan kebalikan filter Lowpass\n",
        "\n",
        "#desentralisasi\n",
        "Fshift = np.fft.fftshift(F)\n",
        "\n",
        "#aplikasi Ideal High Pass Filtering ke citra\n",
        "Gshift = Fshift * H\n",
        "\n",
        "#desentralisasi\n",
        "G = np.fft.ifftshift(Gshift)\n",
        "\n",
        "#mengembalikan spektrum ke bentuk citra\n",
        "g = np.abs(np.fft.ifft2(G))"
      ]
    },
    {
      "cell_type": "code",
      "source": [
        "FS = np.log1p(np.abs(Fshift))\n",
        "GS = np.log1p(np.abs(Gshift))\n",
        "G = np.log1p(np.abs(G))"
      ],
      "metadata": {
        "id": "GVl3agOt-tr6"
      },
      "execution_count": null,
      "outputs": []
    },
    {
      "cell_type": "code",
      "source": [
        "citra = [f, H, FS, GS, G, g]\n",
        "judul = ['Citra Semula', 'Spektrum','Sentralisasi', 'Konvolusi', 'Desentralisasi', 'Hasil']\n",
        "\n",
        "plt.figure(figsize=(12,5))\n",
        "\n",
        "for i in range(6):\n",
        "    plt.subplot(2,3,i+1),plt.imshow(np.log(1+np.abs(citra[i])),'gray')\n",
        "    plt.title(judul[i]), plt.xticks([]), plt.yticks([]);\n",
        "plt.show();"
      ],
      "metadata": {
        "id": "0qd0WQtVykYD"
      },
      "execution_count": null,
      "outputs": []
    }
  ],
  "metadata": {
    "colab": {
      "provenance": []
    },
    "kernelspec": {
      "display_name": "Python 3",
      "name": "python3"
    },
    "language_info": {
      "name": "python"
    }
  },
  "nbformat": 4,
  "nbformat_minor": 0
}