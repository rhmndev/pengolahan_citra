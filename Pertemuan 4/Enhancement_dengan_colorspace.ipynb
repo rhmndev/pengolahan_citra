{
  "cells": [
    {
      "cell_type": "code",
      "execution_count": null,
      "metadata": {
        "id": "WEk1r5i1NrID"
      },
      "outputs": [],
      "source": [
        "import cv2\n",
        "import numpy as np\n",
        "import matplotlib.pyplot as plt\n",
        "from google.colab import files\n",
        "from google.colab.patches import cv2_imshow"
      ]
    },
    {
      "cell_type": "code",
      "execution_count": null,
      "metadata": {
        "id": "6K9VW98eNuXx"
      },
      "outputs": [],
      "source": [
        "uplot = files.upload()"
      ]
    },
    {
      "cell_type": "code",
      "execution_count": null,
      "metadata": {
        "id": "jgH7uQUyYmbG"
      },
      "outputs": [],
      "source": [
        "citra = cv2.imread('gedung.png')"
      ]
    },
    {
      "cell_type": "code",
      "source": [
        "# mengubah citra ke format warna YUV\n",
        "img_yuv = cv2.cvtColor(citra, cv2.COLOR_BGR2YUV)\n",
        "\n",
        "# Perataan histogram\n",
        "img_yuv[:,:,0] = cv2.equalizeHist(img_yuv[:,:,0])\n",
        "\n",
        "# mengembalikan citra YUV ke format RGB\n",
        "hasilYUV = cv2.cvtColor(img_yuv, cv2.COLOR_YUV2BGR)\n",
        "\n",
        "result = np.hstack((citra, hasilYUV))\n",
        "cv2_imshow(result)"
      ],
      "metadata": {
        "id": "syigY6-N9oxc"
      },
      "execution_count": null,
      "outputs": []
    },
    {
      "cell_type": "code",
      "source": [
        "img_hsv = cv2.cvtColor(citra, cv2.COLOR_RGB2HSV)\n",
        "\n",
        "img_hsv[:, :, 2] = cv2.equalizeHist(img_hsv[:, :, 2])\n",
        "\n",
        "hasilHSV = cv2.cvtColor(img_hsv, cv2.COLOR_HSV2RGB)\n",
        "\n",
        "result = np.hstack((citra, hasilHSV))\n",
        "cv2_imshow(result)"
      ],
      "metadata": {
        "id": "PqyjerJS-_if"
      },
      "execution_count": null,
      "outputs": []
    },
    {
      "cell_type": "code",
      "source": [
        "ycrcb_img = cv2.cvtColor(citra, cv2.COLOR_BGR2YCrCb)\n",
        "\n",
        "ycrcb_img[:, :, 0] = cv2.equalizeHist(ycrcb_img[:, :, 0])\n",
        "\n",
        "hasilCrCb = cv2.cvtColor(ycrcb_img, cv2.COLOR_YCrCb2BGR)\n",
        "\n",
        "result = np.hstack((citra, hasilCrCb))\n",
        "cv2_imshow(result)"
      ],
      "metadata": {
        "id": "hx3zC_1YAEB0"
      },
      "execution_count": null,
      "outputs": []
    },
    {
      "cell_type": "code",
      "source": [
        "result = np.hstack((citra, hasil, hasilYUV, hasilCrCb, hasilHSV))\n",
        "cv2_imshow(result)"
      ],
      "metadata": {
        "id": "azIENzvS_4d4"
      },
      "execution_count": null,
      "outputs": []
    }
  ],
  "metadata": {
    "colab": {
      "provenance": []
    },
    "kernelspec": {
      "display_name": "Python 3",
      "name": "python3"
    },
    "language_info": {
      "name": "python"
    }
  },
  "nbformat": 4,
  "nbformat_minor": 0
}