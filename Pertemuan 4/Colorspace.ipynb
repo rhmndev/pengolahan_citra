{
  "cells": [
    {
      "cell_type": "code",
      "execution_count": null,
      "metadata": {
        "id": "DyEJEaunyjp0"
      },
      "outputs": [],
      "source": [
        "from google.colab import files\n",
        "uplot = files.upload()"
      ]
    },
    {
      "cell_type": "code",
      "execution_count": null,
      "metadata": {
        "id": "WFc0b-bCy3SW"
      },
      "outputs": [],
      "source": [
        "import cv2 as cv\n",
        "\n",
        "image = cv.imread('gedung.jpeg')"
      ]
    },
    {
      "cell_type": "code",
      "execution_count": null,
      "metadata": {
        "id": "cRND79_tzUt5"
      },
      "outputs": [],
      "source": [
        "from google.colab.patches import cv2_imshow\n",
        "cv2_imshow(image)"
      ]
    },
    {
      "cell_type": "code",
      "execution_count": null,
      "metadata": {
        "id": "Wes4SE-bzsU_"
      },
      "outputs": [],
      "source": [
        "img = cv.cvtColor(image, cv.COLOR_BGR2HSV)"
      ]
    },
    {
      "cell_type": "code",
      "execution_count": null,
      "metadata": {
        "id": "4C-qVrKF0KqN"
      },
      "outputs": [],
      "source": [
        "cv2_imshow(img)"
      ]
    },
    {
      "cell_type": "code",
      "execution_count": null,
      "metadata": {
        "id": "elrIdSQI0Wq6"
      },
      "outputs": [],
      "source": [
        "imgCrCb = cv.cvtColor(image, cv.COLOR_BGR2YCrCb)"
      ]
    },
    {
      "cell_type": "code",
      "execution_count": null,
      "metadata": {
        "id": "67XHjIZN0jQH"
      },
      "outputs": [],
      "source": [
        "cv2_imshow(imgCrCb)"
      ]
    },
    {
      "cell_type": "code",
      "execution_count": null,
      "metadata": {
        "id": "_hlbZDzS0ocF"
      },
      "outputs": [],
      "source": [
        "imgLUV = cv.cvtColor(image, cv.COLOR_BGR2LUV)"
      ]
    },
    {
      "cell_type": "code",
      "execution_count": null,
      "metadata": {
        "id": "TebQIz-40yUv"
      },
      "outputs": [],
      "source": [
        "cv2_imshow(imgLUV)"
      ]
    },
    {
      "cell_type": "code",
      "source": [
        "imgLab = cv.cvtColor(image, cv.COLOR_BGR2Lab)"
      ],
      "metadata": {
        "id": "5LrKpf-nvsBu"
      },
      "execution_count": null,
      "outputs": []
    },
    {
      "cell_type": "code",
      "source": [
        "cv2_imshow(imgLab)"
      ],
      "metadata": {
        "id": "KhgqeUs2v0k6"
      },
      "execution_count": null,
      "outputs": []
    },
    {
      "cell_type": "code",
      "source": [
        "imgCIE = cv.cvtColor(image, cv.COLOR_BGR2XYZ)"
      ],
      "metadata": {
        "id": "WQcGR0kUIO3L"
      },
      "execution_count": null,
      "outputs": []
    },
    {
      "cell_type": "code",
      "source": [
        "cv2_imshow(imgCIE)"
      ],
      "metadata": {
        "id": "6pZKJI7IIhaF"
      },
      "execution_count": null,
      "outputs": []
    }
  ],
  "metadata": {
    "colab": {
      "provenance": []
    },
    "kernelspec": {
      "display_name": "Python 3",
      "name": "python3"
    },
    "language_info": {
      "name": "python"
    }
  },
  "nbformat": 4,
  "nbformat_minor": 0
}