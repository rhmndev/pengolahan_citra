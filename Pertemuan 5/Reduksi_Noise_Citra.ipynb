{
  "nbformat": 4,
  "nbformat_minor": 0,
  "metadata": {
    "colab": {
      "provenance": []
    },
    "kernelspec": {
      "display_name": "Python 3",
      "name": "python3"
    },
    "language_info": {
      "name": "python"
    }
  },
  "cells": [
    {
      "cell_type": "code",
      "metadata": {
        "id": "zUxOpJePTm7i"
      },
      "source": [
        "import cv2\n",
        "import numpy as np\n",
        "from google.colab import files\n",
        "from google.colab.patches import cv2_imshow"
      ],
      "execution_count": 1,
      "outputs": []
    },
    {
      "cell_type": "code",
      "source": [
        "uplot = files.upload()"
      ],
      "metadata": {
        "id": "vPAAviqMNiQy"
      },
      "execution_count": null,
      "outputs": []
    },
    {
      "cell_type": "code",
      "source": [
        "citra = cv2.imread('balloons_noisy.png')"
      ],
      "metadata": {
        "id": "FmEXPXayyxY5"
      },
      "execution_count": 12,
      "outputs": []
    },
    {
      "cell_type": "code",
      "source": [
        "img = cv2.cvtColor(citra, cv2.COLOR_BGR2GRAY)"
      ],
      "metadata": {
        "id": "1yaatFTVyf3Y"
      },
      "execution_count": 13,
      "outputs": []
    },
    {
      "cell_type": "code",
      "metadata": {
        "id": "MRM6Y7sfWE6v"
      },
      "source": [
        "cv2_imshow(citra)"
      ],
      "execution_count": null,
      "outputs": []
    },
    {
      "cell_type": "code",
      "source": [
        "# reduksi noise dengan konvolusi\n",
        "mask = np.ones((9,9), np.float32)/81\n",
        "hasil = cv2.filter2D(src=img, ddepth=-1, kernel=mask)\n",
        "\n",
        "cv2_imshow(hasil)"
      ],
      "metadata": {
        "id": "WU0tyb2g1CnS"
      },
      "execution_count": null,
      "outputs": []
    },
    {
      "cell_type": "code",
      "source": [
        "citrabaru =  cv2.medianBlur(citra, 5)"
      ],
      "metadata": {
        "id": "feQGfuhKRe8R"
      },
      "execution_count": 19,
      "outputs": []
    },
    {
      "cell_type": "code",
      "source": [
        "result = np.hstack((citra,citrabaru))\n",
        "cv2_imshow(result)"
      ],
      "metadata": {
        "id": "T5pvURef71zd"
      },
      "execution_count": null,
      "outputs": []
    }
  ]
}