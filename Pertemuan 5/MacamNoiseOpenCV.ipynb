{
  "nbformat": 4,
  "nbformat_minor": 0,
  "metadata": {
    "colab": {
      "provenance": []
    },
    "kernelspec": {
      "display_name": "Python 3",
      "name": "python3"
    },
    "language_info": {
      "name": "python"
    }
  },
  "cells": [
    {
      "cell_type": "markdown",
      "metadata": {
        "id": "fOjJP0gJTkiy"
      },
      "source": [
        "IMPORT\n",
        "--"
      ]
    },
    {
      "cell_type": "code",
      "metadata": {
        "id": "zUxOpJePTm7i"
      },
      "source": [
        "from google.colab.patches import cv2_imshow\n",
        "import cv2 as cv\n",
        "import numpy as np\n",
        "import matplotlib.pyplot as plt"
      ],
      "execution_count": 1,
      "outputs": []
    },
    {
      "cell_type": "code",
      "source": [
        "from google.colab import files\n",
        "uplot = files.upload()"
      ],
      "metadata": {
        "id": "FmEXPXayyxY5"
      },
      "execution_count": null,
      "outputs": []
    },
    {
      "cell_type": "markdown",
      "metadata": {
        "id": "c9L4nYpyU7q6"
      },
      "source": [
        "Reading"
      ]
    },
    {
      "cell_type": "code",
      "metadata": {
        "id": "aZiC_XcMVBeg"
      },
      "source": [
        "citra = cv.imread('strawberry.png')"
      ],
      "execution_count": 33,
      "outputs": []
    },
    {
      "cell_type": "code",
      "source": [
        "gray = cv.cvtColor(citra, cv.COLOR_BGR2GRAY)"
      ],
      "metadata": {
        "id": "1yaatFTVyf3Y"
      },
      "execution_count": 34,
      "outputs": []
    },
    {
      "cell_type": "markdown",
      "metadata": {
        "id": "tAXwtV2zWNdj"
      },
      "source": [
        "Displaying"
      ]
    },
    {
      "cell_type": "code",
      "metadata": {
        "id": "MRM6Y7sfWE6v"
      },
      "source": [
        "from google.colab.patches import cv2_imshow\n",
        "cv2_imshow(citra)"
      ],
      "execution_count": null,
      "outputs": []
    },
    {
      "cell_type": "markdown",
      "metadata": {
        "id": "pQQo63yWFzLX"
      },
      "source": [
        "Noise Gaussian"
      ]
    },
    {
      "cell_type": "code",
      "metadata": {
        "id": "Jh0FStmDqq1H"
      },
      "source": [
        "import cv2\n",
        "import scipy\n",
        "import scipy.stats\n",
        "import random\n",
        "\n",
        "def NoiseGaussian(image,sigma):\n",
        "    # Gaussian noise\n",
        "    img = image.astype(np.int16)\n",
        "    mu = 0\n",
        "    for i in range(img.shape[0]):\n",
        "        for j in range(img.shape[1]):\n",
        "            for k in range(img.shape[2]):\n",
        "                img[i, j, k] = img[i, j, k] + random.gauss(mu=mu, sigma=sigma)\n",
        "    img[img > 255] = 255\n",
        "    img[img < 0] = 0\n",
        "    img = img.astype(np.uint8)\n",
        "    return img\n",
        "\n",
        "Gauss= NoiseGaussian(citra,18)\n",
        "cv2_imshow(Gauss)\n"
      ],
      "execution_count": null,
      "outputs": []
    },
    {
      "cell_type": "markdown",
      "metadata": {
        "id": "ie1O6eQXF2F0"
      },
      "source": [
        "Pepper"
      ]
    },
    {
      "cell_type": "code",
      "metadata": {
        "id": "iN8voCE2rR6g"
      },
      "source": [
        "def spNoisy(image,s_vs_p = 0.5,amount = 0.004):\n",
        "    out = np.copy(image)\n",
        "    num_salt = np.ceil(amount * image.size * s_vs_p)\n",
        "    coords = [np.random.randint(0, i - 1, int(num_salt)) for i in image.shape]\n",
        "    out[tuple(coords)] = 1\n",
        "    num_pepper = np.ceil(amount* image.size * (1. - s_vs_p))\n",
        "    coords = [np.random.randint(0, i - 1, int(num_pepper)) for i in image.shape]\n",
        "    out[tuple(coords)] = 0\n",
        "    return out\n",
        "\n",
        "Pepper = spNoisy(citra)\n",
        "cv2_imshow(Pepper)"
      ],
      "execution_count": null,
      "outputs": []
    },
    {
      "cell_type": "markdown",
      "metadata": {
        "id": "zMPr2XRjHtW4"
      },
      "source": [
        "Arithmetic mean filtering"
      ]
    },
    {
      "cell_type": "code",
      "metadata": {
        "id": "4wuB2kIdGDkc"
      },
      "source": [
        "def ArithmeticMean(image):\n",
        "    new_image = np.zeros(image.shape)\n",
        "    image = cv2.copyMakeBorder(image,1,1,1,1,cv2.BORDER_DEFAULT)\n",
        "    for i in range(1,image.shape[0]-1):\n",
        "        for j in range(1,image.shape[1]-1):\n",
        "            new_image[i-1,j-1] = np.mean(image[i-1:i+2,j-1:j+2])\n",
        "    new_image = (new_image-np.min(image))*(255/np.max(image))\n",
        "    return new_image.astype(np.uint8)\n",
        "\n",
        "def rgbArithmeticMean(image):\n",
        "    r,g,b = cv2.split(image)\n",
        "    r = ArithmeticMean(r)\n",
        "    g = ArithmeticMean(g)\n",
        "    b = ArithmeticMean(b)\n",
        "    return cv2.merge([r,g,b])\n",
        "\n",
        "Gauss= NoiseGaussian(citra,18)\n",
        "GaussArith = rgbArithmeticMean(Gauss)\n",
        "\n",
        "Pepper = spNoisy(citra)\n",
        "PepperArith =rgbArithmeticMean(Pepper)\n",
        "\n",
        "result = np.hstack((Gauss, GaussArith, Pepper, PepperArith))\n",
        "cv2_imshow(result)"
      ],
      "execution_count": null,
      "outputs": []
    },
    {
      "cell_type": "markdown",
      "metadata": {
        "id": "NcAkde9kH0Qn"
      },
      "source": [
        "Geometric mean filtering"
      ]
    },
    {
      "cell_type": "code",
      "metadata": {
        "id": "-_v5AmMcGGy2"
      },
      "source": [
        "def GeometricMeanOperator(roi):\n",
        "    roi = roi.astype(np.float64)\n",
        "    p = np.prod(roi)\n",
        "    return p ** (1 / (roi.shape[0] * roi.shape[1]))\n",
        "\n",
        "def GeometricMean(image):\n",
        "    new_image = np.zeros(image.shape)\n",
        "    image = cv2.copyMakeBorder(image, 1, 1, 1, 1, cv2.BORDER_DEFAULT)\n",
        "    for i in range(1, image.shape[0] - 1):\n",
        "        for j in range(1, image.shape[1] - 1):\n",
        "            new_image[i - 1, j - 1] = GeometricMeanOperator(image[i - 1:i + 2, j - 1:j + 2])\n",
        "    new_image = (new_image - np.min(image)) * (255 / np.max(image))\n",
        "    return new_image.astype(np.uint8)\n",
        "\n",
        "def rgbGemotriccMean(image):\n",
        "    r,g,b = cv2.split(image)\n",
        "    r = GeometricMean(r)\n",
        "    g = GeometricMean(g)\n",
        "    b = GeometricMean(b)\n",
        "    return cv2.merge([r,g,b])\n",
        "\n",
        "Gauss= NoiseGaussian(citra,18)\n",
        "GaussGeo = rgbGemotriccMean(Gauss)\n",
        "\n",
        "PepperGeo = spNoisy(citra)\n",
        "rgbGemotriccMean(Pepper)\n",
        "\n",
        "result = np.hstack((Gauss, GaussGeo, Pepper, PepperGeo))\n",
        "cv2_imshow(result)"
      ],
      "execution_count": null,
      "outputs": []
    },
    {
      "cell_type": "markdown",
      "metadata": {
        "id": "7Opugp1pH4Sw"
      },
      "source": [
        "Harmonic mean filtering"
      ]
    },
    {
      "cell_type": "code",
      "metadata": {
        "id": "G_as4qiGVYiV"
      },
      "source": [
        "def HarmonicMeanOperator(roi):\n",
        "    roi = roi.astype(np.float64)\n",
        "    if 0 in roi:\n",
        "        roi = 0\n",
        "    else:\n",
        "        roi = scipy.stats.hmean(roi.reshape(-1))\n",
        "    return roi\n",
        "def HarmonicMean(image):\n",
        "    new_image = np.zeros(image.shape)\n",
        "    image = cv2.copyMakeBorder(image,1,1,1,1,cv2.BORDER_DEFAULT)\n",
        "    for i in range(1,image.shape[0]-1):\n",
        "        for j in range(1,image.shape[1]-1):\n",
        "            new_image[i-1,j-1] =HarmonicMeanOperator(image[i-1:i+2,j-1:j+2])\n",
        "    new_image = (new_image-np.min(image))*(255/np.max(image))\n",
        "    return new_image.astype(np.uint8)\n",
        "def rgbHarmonicMean(image):\n",
        "    r,g,b = cv2.split(image)\n",
        "    r = HarmonicMean(r)\n",
        "    g = HarmonicMean(g)\n",
        "    b = HarmonicMean(b)\n",
        "    return cv2.merge([r,g,b])\n",
        "\n",
        "Gauss= NoiseGaussian(citra,18)\n",
        "GaussHarmonic = rgbHarmonicMean(Gauss)\n",
        "\n",
        "Pepper = spNoisy(citra)\n",
        "PepperHarmonic = rgbHarmonicMean(Pepper)\n",
        "\n",
        "result = np.hstack((Gauss, GaussHarmonic, Pepper, PepperHarmonic))\n",
        "cv2_imshow(result)"
      ],
      "execution_count": null,
      "outputs": []
    },
    {
      "cell_type": "markdown",
      "metadata": {
        "id": "NwzlfbNpH7jM"
      },
      "source": [
        "Contraharmonic mean filtering"
      ]
    },
    {
      "cell_type": "code",
      "metadata": {
        "id": "UjjBBgZ8VeAY"
      },
      "source": [
        "def ContraharmonicMeanOperator(roi,q):\n",
        "    roi = roi.astype(np.float64)\n",
        "    return np.mean((roi)**(q+1))/np.mean((roi)**(q))\n",
        "def ContraharmonicMean(image,q):\n",
        "    new_image = np.zeros(image.shape)\n",
        "    image = cv2.copyMakeBorder(image,1,1,1,1,cv2.BORDER_DEFAULT)\n",
        "    for i in range(1,image.shape[0]-1):\n",
        "        for j in range(1,image.shape[1]-1):\n",
        "            new_image[i-1,j-1] = ContraharmonicMeanOperator(image[i-1:i+2,j-1:j+2],q)\n",
        "    new_image = (new_image-np.min(image))*(255/np.max(image))\n",
        "    return new_image.astype(np.uint8)\n",
        "def rgbContraharmonicMean(image,q):\n",
        "    r,g,b = cv2.split(image)\n",
        "    r = ContraharmonicMean(r,q)\n",
        "    g = ContraharmonicMean(g,q)\n",
        "    b = ContraharmonicMean(b,q)\n",
        "    return cv2.merge([r,g,b])\n",
        "\n",
        "Gauss= NoiseGaussian(citra,18)\n",
        "GaussCHarmonic = rgbContraharmonicMean(Gauss,2)\n",
        "\n",
        "Pepper = spNoisy(citra)\n",
        "PepperCHarmonic = rgbContraharmonicMean(Pepper,2)\n",
        "\n",
        "result = np.hstack((Gauss, GaussCHarmonic, Pepper, PepperCHarmonic))\n",
        "cv2_imshow(result)"
      ],
      "execution_count": null,
      "outputs": []
    },
    {
      "cell_type": "code",
      "source": [
        "plt.subplot(251),plt.imshow(cv2.cvtColor(Gauss, cv2.COLOR_BGR2RGB)),plt.axis('off')\n",
        "plt.subplot(252),plt.imshow(cv2.cvtColor(Pepper, cv2.COLOR_BGR2RGB)),plt.axis('off')\n",
        "plt.subplot(253),plt.imshow(cv2.cvtColor(GaussArith, cv2.COLOR_BGR2RGB)),plt.axis('off')\n",
        "plt.subplot(254),plt.imshow(cv2.cvtColor(PepperArith, cv2.COLOR_BGR2RGB)),plt.axis('off')\n",
        "plt.subplot(255),plt.imshow(cv2.cvtColor(GaussGeo, cv2.COLOR_BGR2RGB)),plt.axis('off')\n",
        "plt.subplot(256),plt.imshow(cv2.cvtColor(PepperGeo, cv2.COLOR_BGR2RGB)),plt.axis('off')\n",
        "plt.subplot(257),plt.imshow(cv2.cvtColor(GaussHarmonic, cv2.COLOR_BGR2RGB)),plt.axis('off')\n",
        "plt.subplot(258),plt.imshow(cv2.cvtColor(PepperHarmonic, cv2.COLOR_BGR2RGB)),plt.axis('off')\n",
        "plt.subplot(259),plt.imshow(cv2.cvtColor(GaussCHarmonic, cv2.COLOR_BGR2RGB)),plt.axis('off')\n",
        "plt.subplot(2,5,10),plt.imshow(cv2.cvtColor(PepperCHarmonic, cv2.COLOR_BGR2RGB)),plt.axis('off')\n",
        "plt.show()"
      ],
      "metadata": {
        "id": "m7A3hPFaQT_U"
      },
      "execution_count": null,
      "outputs": []
    }
  ]
}