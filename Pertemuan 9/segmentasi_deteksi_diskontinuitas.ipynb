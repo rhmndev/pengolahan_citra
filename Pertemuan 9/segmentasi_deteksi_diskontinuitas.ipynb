{
  "nbformat": 4,
  "nbformat_minor": 0,
  "metadata": {
    "colab": {
      "provenance": []
    },
    "kernelspec": {
      "name": "python3",
      "display_name": "Python 3"
    },
    "language_info": {
      "name": "python"
    }
  },
  "cells": [
    {
      "cell_type": "code",
      "execution_count": null,
      "metadata": {
        "id": "jZzYg-52aHGu"
      },
      "outputs": [],
      "source": [
        "from google.colab import files\n",
        "uplot = files.upload()"
      ]
    },
    {
      "cell_type": "code",
      "source": [
        "import numpy as np\n",
        "import cv2\n",
        "from google.colab.patches import cv2_imshow\n",
        "\n",
        "citra = cv2.imread('nci.JPG')"
      ],
      "metadata": {
        "id": "Fq8-3-hBaKN_"
      },
      "execution_count": null,
      "outputs": []
    },
    {
      "cell_type": "code",
      "source": [
        "gray = cv2.cvtColor(citra, cv2.COLOR_RGB2GRAY)\n",
        "cv2_imshow(gray)"
      ],
      "metadata": {
        "id": "xrPYI0divpf_"
      },
      "execution_count": null,
      "outputs": []
    },
    {
      "cell_type": "code",
      "source": [
        "#Filter untuk deteksi titik\n",
        "kernel1 = np.array([[-1, -1, -1],\n",
        "                    [-1,  8, -1],\n",
        "                    [-1, -1,  -1]])"
      ],
      "metadata": {
        "id": "R9h0fZkKYpVJ"
      },
      "execution_count": null,
      "outputs": []
    },
    {
      "cell_type": "code",
      "source": [
        "segmen = cv2.filter2D(src=gray, ddepth=-1, kernel=kernel1)"
      ],
      "metadata": {
        "id": "o0g3TEONl2Zi"
      },
      "execution_count": null,
      "outputs": []
    },
    {
      "cell_type": "code",
      "source": [
        "result = np.hstack((gray, segmen))\n",
        "cv2_imshow(result)"
      ],
      "metadata": {
        "id": "-q506E0Pl-9y"
      },
      "execution_count": null,
      "outputs": []
    },
    {
      "cell_type": "code",
      "source": [
        "#Filter untuk deteksi garis\n",
        "kernelA = np.array([[-1, -1, -1],\n",
        "                     [2,  2, 2],\n",
        "                    [-1, -1, -1]])\n",
        "\n",
        "kernelB = np.array([[-1, 2, -1],\n",
        "                    [-1, 2, -1],\n",
        "                    [-1, 2, -1]])\n",
        "\n",
        "kernelC = np.array([[-1, -1, 2],\n",
        "                    [-1, 2, -1],\n",
        "                    [2, -1, -1]])\n",
        "\n",
        "kernelD = np.array([[2, -1, -1],\n",
        "                    [-1, 2, -1],\n",
        "                    [-1, -1, 2]])"
      ],
      "metadata": {
        "id": "Tyff0vItGxk_"
      },
      "execution_count": null,
      "outputs": []
    },
    {
      "cell_type": "code",
      "source": [
        "A = cv2.filter2D(src=gray, ddepth=-1, kernel=kernelA)\n",
        "B = cv2.filter2D(src=gray, ddepth=-1, kernel=kernelB)\n",
        "C = cv2.filter2D(src=gray, ddepth=-1, kernel=kernelC)\n",
        "D = cv2.filter2D(src=gray, ddepth=-1, kernel=kernelD)"
      ],
      "metadata": {
        "id": "Wp3MtGp25T9T"
      },
      "execution_count": null,
      "outputs": []
    },
    {
      "cell_type": "code",
      "source": [
        "hasil = A + B + C + D"
      ],
      "metadata": {
        "id": "A1sgUITKniAf"
      },
      "execution_count": null,
      "outputs": []
    },
    {
      "cell_type": "code",
      "source": [
        "result = np.hstack((gray, A, B, C, D))\n",
        "cv2_imshow(result)"
      ],
      "metadata": {
        "id": "f8ZWqKF_bbPV"
      },
      "execution_count": null,
      "outputs": []
    },
    {
      "cell_type": "code",
      "source": [
        "result = np.hstack((segmen, hasil))\n",
        "cv2_imshow(result)"
      ],
      "metadata": {
        "id": "R3LmmaYgntq8"
      },
      "execution_count": null,
      "outputs": []
    }
  ]
}