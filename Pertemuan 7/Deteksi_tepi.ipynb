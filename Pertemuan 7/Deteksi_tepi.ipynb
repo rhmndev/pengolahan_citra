{
  "cells": [
    {
      "cell_type": "code",
      "execution_count": null,
      "metadata": {
        "id": "2EbZ3_Q5gGui"
      },
      "outputs": [],
      "source": [
        "import cv2\n",
        "import numpy as np\n",
        "from google.colab import files\n",
        "from matplotlib import pyplot as plt\n",
        "from google.colab.patches import cv2_imshow"
      ]
    },
    {
      "cell_type": "code",
      "source": [
        "uplot = files.upload()"
      ],
      "metadata": {
        "id": "gEfXv1eNlhlH"
      },
      "execution_count": null,
      "outputs": []
    },
    {
      "cell_type": "code",
      "execution_count": null,
      "metadata": {
        "id": "K5nNgRaqhoSc"
      },
      "outputs": [],
      "source": [
        "citra = cv2.imread('singa.png')\n",
        "cv2_imshow(citra)"
      ]
    },
    {
      "cell_type": "code",
      "source": [
        "abu2 = cv2.cvtColor(citra, cv2.COLOR_BGR2GRAY)"
      ],
      "metadata": {
        "id": "_PcuZSXHlzvW"
      },
      "execution_count": null,
      "outputs": []
    },
    {
      "cell_type": "code",
      "source": [
        "#untuk hasil canny yg lbh halus\n",
        "#abu = cv2.GaussianBlur(citra,(5,5),0)"
      ],
      "metadata": {
        "id": "uFqLSyuxkhM1"
      },
      "execution_count": null,
      "outputs": []
    },
    {
      "cell_type": "code",
      "source": [
        "canny = cv2.Canny(image=abu2, threshold1=100, threshold2=200)\n",
        "\n",
        "laplace = cv2.Laplacian(abu2, cv2.CV_64F)"
      ],
      "metadata": {
        "id": "CZU4zYmSR4VY"
      },
      "execution_count": null,
      "outputs": []
    },
    {
      "cell_type": "code",
      "source": [
        "result = np.hstack((canny, laplace))\n",
        "cv2_imshow(result)"
      ],
      "metadata": {
        "id": "o7gK-bbF40ND"
      },
      "execution_count": null,
      "outputs": []
    },
    {
      "cell_type": "code",
      "source": [
        "sobelx = cv2.Sobel(abu2,cv2.CV_64F,1,0,ksize=3)\n",
        "sobely = cv2.Sobel(abu2,cv2.CV_64F,0,1,ksize=3)\n",
        "#magnitude\n",
        "sobelxy = np.sqrt(sobelx**2 + sobely**2)"
      ],
      "metadata": {
        "id": "qdRAsaY9RYtL"
      },
      "execution_count": null,
      "outputs": []
    },
    {
      "cell_type": "code",
      "source": [
        "result = np.hstack((sobely, sobelx, sobelxy))\n",
        "cv2_imshow(result)"
      ],
      "metadata": {
        "id": "RXJ3WGtbMfAf"
      },
      "execution_count": null,
      "outputs": []
    },
    {
      "cell_type": "code",
      "source": [
        "kernelx = np.array([[1,1,1],[0,0,0],[-1,-1,-1]])\n",
        "kernely = np.array([[-1,0,1],[-1,0,1],[-1,0,1]])\n",
        "\n",
        "prewittx = cv2.filter2D(abu2, -1, kernelx)\n",
        "prewitty = cv2.filter2D(abu2, -1, kernely)\n",
        "prewittxy = prewittx + prewitty"
      ],
      "metadata": {
        "id": "ALjmLNf7zkiR"
      },
      "execution_count": null,
      "outputs": []
    },
    {
      "cell_type": "code",
      "source": [
        "result = np.hstack((prewitty,prewittx, prewittxy))\n",
        "cv2_imshow(result)"
      ],
      "metadata": {
        "id": "q0P3KJkYzrrb"
      },
      "execution_count": null,
      "outputs": []
    },
    {
      "cell_type": "code",
      "source": [
        "cross_v = np.array([[1, 0],[0,-1]])\n",
        "cross_h = np.array([[0, 1],[-1, 0]])\n",
        "\n",
        "robertx = cv2.filter2D(abu2, -1, cross_h)\n",
        "roberty = cv2.filter2D(abu2, -1, cross_v)\n",
        "robertxy = robertx  + roberty"
      ],
      "metadata": {
        "id": "hBPdiqDe02Td"
      },
      "execution_count": null,
      "outputs": []
    },
    {
      "cell_type": "code",
      "source": [
        "result = np.hstack((roberty,robertx, robertxy))\n",
        "cv2_imshow(result)"
      ],
      "metadata": {
        "id": "TVY4UcJcFbi_"
      },
      "execution_count": null,
      "outputs": []
    },
    {
      "cell_type": "code",
      "source": [
        "scharr_X = cv2.Scharr(abu2, cv2.CV_64F, 1, 0)\n",
        "scharr_Y = cv2.Scharr(abu2, cv2.CV_64F, 0, 1)\n",
        "scharr_XY = scharr_X + scharr_Y"
      ],
      "metadata": {
        "id": "P70frqZBLR7t"
      },
      "execution_count": null,
      "outputs": []
    },
    {
      "cell_type": "code",
      "source": [
        "result = np.hstack((scharr_X, scharr_Y, scharr_XY))\n",
        "cv2_imshow(result)"
      ],
      "metadata": {
        "id": "qCpShHw2OTOr"
      },
      "execution_count": null,
      "outputs": []
    },
    {
      "cell_type": "markdown",
      "source": [
        "# Kirsch Compass Mask"
      ],
      "metadata": {
        "id": "KP2s6ii_cx-J"
      }
    },
    {
      "cell_type": "code",
      "source": [
        "h1 = np.array([[5, -3, -3], [5, 0, -3], [5, -3, -3]], dtype=np.float32)/ 15\n",
        "h2 = np.array([[-3, -3, 5], [-3, 0, 5], [-3, -3, 5]], dtype=np.float32) / 15\n",
        "h3 = np.array([[-3, -3, -3], [5, 0, -3], [5, 5, -3]], dtype=np.float32) / 15\n",
        "h4 = np.array([[-3, 5, 5], [-3, 0, 5], [-3, -3, -3]], dtype=np.float32) / 15\n",
        "h5 = np.array([[-3, -3, -3], [-3, 0, -3], [5, 5, 5]], dtype=np.float32) / 15\n",
        "h6 = np.array([[5, 5, 5], [-3, 0, -3], [-3, -3, -3]], dtype=np.float32) / 15\n",
        "h7 = np.array([[-3, -3, -3], [-3, 0, 5], [-3, 5, 5]], dtype=np.float32) / 15\n",
        "h8 = np.array([[5, 5, -3], [5, 0, -3], [-3, -3, -3]], dtype=np.float32) / 15\n",
        "new1 = cv2.filter2D(abu2, -1, h1)\n",
        "new2 = cv2.filter2D(abu2, -1, h2)\n",
        "new3 = cv2.filter2D(abu2, -1, h3)\n",
        "new4 = cv2.filter2D(abu2, -1, h4)\n",
        "new5 = cv2.filter2D(abu2, -1, h5)\n",
        "new6 = cv2.filter2D(abu2, -1, h6)\n",
        "new7 = cv2.filter2D(abu2, -1, h7)\n",
        "new8 = cv2.filter2D(abu2, -1, h8)"
      ],
      "metadata": {
        "id": "UUiTzoBQYRPd"
      },
      "execution_count": null,
      "outputs": []
    },
    {
      "cell_type": "code",
      "source": [
        "kirsch = new1 + new2 + new3 + new4 + new5 + new6 + new7 + new8"
      ],
      "metadata": {
        "id": "2gUEqMKsLMlE"
      },
      "execution_count": null,
      "outputs": []
    },
    {
      "cell_type": "code",
      "source": [
        "images = [new1, new2, new3, new4, new5, new6, new7, new8\n",
        "\n",
        "plt.figure(figsize=(10,5))\n",
        "for i in range(8):\n",
        "    plt.subplot(2,4,i+1), plt.imshow(images[i], cmap='gray'), plt.axis('off')"
      ],
      "metadata": {
        "id": "MRtFFFMIY6Bs"
      },
      "execution_count": null,
      "outputs": []
    },
    {
      "cell_type": "code",
      "source": [
        "cv2_imshow(kirsch)"
      ],
      "metadata": {
        "id": "NkGEWDrTYbx6"
      },
      "execution_count": null,
      "outputs": []
    },
    {
      "cell_type": "markdown",
      "source": [
        "# Robinson Compass Mask"
      ],
      "metadata": {
        "id": "UCa8UN9tcuNS"
      }
    },
    {
      "cell_type": "code",
      "source": [
        "h1 = np.array([[-1, -2, -1], [0, 0, 0], [1, 2, 1]], dtype=np.float32)/ 15\n",
        "h2 = np.array([[0, -1, -2], [1, 0, -1], [2, 1, 0]], dtype=np.float32) / 15\n",
        "h3 = np.array([[1, 0, -1], [2, 0, -2], [1,0, -1]], dtype=np.float32) / 15\n",
        "h4 = np.array([[2, 1, 0], [1, 0, -1], [0, -1, -2]], dtype=np.float32) / 15\n",
        "h5 = np.array([[1, 2, 1], [0, 0, 0], [-1, -2, -1]], dtype=np.float32) / 15\n",
        "h6 = np.array([[0, 1, 2], [-1, 0, 1], [-2, -1, 0]], dtype=np.float32) / 15\n",
        "h7 = np.array([[-1, 0, 1], [-2, 0, 2], [-1, 0, 1]], dtype=np.float32) / 15\n",
        "h8 = np.array([[-2, -1, 0], [-1, 0, 1], [0, 1, 2]], dtype=np.float32) / 15\n",
        "new1 = cv2.filter2D(abu2, -1, h1)\n",
        "new2 = cv2.filter2D(abu2, -1, h2)\n",
        "new3 = cv2.filter2D(abu2, -1, h3)\n",
        "new4 = cv2.filter2D(abu2, -1, h4)\n",
        "new5 = cv2.filter2D(abu2, -1, h5)\n",
        "new6 = cv2.filter2D(abu2, -1, h6)\n",
        "new7 = cv2.filter2D(abu2, -1, h7)\n",
        "new8 = cv2.filter2D(abu2, -1, h8)"
      ],
      "metadata": {
        "id": "CnmZIkLaaK1a"
      },
      "execution_count": null,
      "outputs": []
    },
    {
      "cell_type": "code",
      "source": [
        "robinson = new1 + new2 + new3 + new4 + new5 + new6 + new7 + new8"
      ],
      "metadata": {
        "id": "E5bcvr0iLxXr"
      },
      "execution_count": null,
      "outputs": []
    },
    {
      "cell_type": "code",
      "source": [
        "cv2_imshow(robinson)"
      ],
      "metadata": {
        "id": "iiSDFxaQ3B2C"
      },
      "execution_count": null,
      "outputs": []
    },
    {
      "cell_type": "code",
      "source": [
        "images = [new1, new2, new3, new4, new5, new6, new7, new8]\n",
        "\n",
        "plt.figure(figsize=(20,10))\n",
        "for i in range(8):\n",
        "    plt.subplot(2,4,i+1), plt.imshow(images[i], cmap='gray'), plt.axis('off')"
      ],
      "metadata": {
        "id": "s7JElzovbWUA"
      },
      "execution_count": null,
      "outputs": []
    },
    {
      "cell_type": "code",
      "source": [
        "result = np.hstack((canny2, laplace, sobelxy, prewittxy, robertxy, scharr_XY, kirsch, robinson))\n",
        "cv2_imshow(result)"
      ],
      "metadata": {
        "id": "Hm2PRKHucaV8"
      },
      "execution_count": null,
      "outputs": []
    },
    {
      "cell_type": "markdown",
      "source": [
        "# Teknik Threshold"
      ],
      "metadata": {
        "id": "72HqnoX3UGHF"
      }
    },
    {
      "cell_type": "code",
      "source": [
        "ret, thresh1 = cv2.threshold(abu2, 127, 255, cv2.THRESH_BINARY)"
      ],
      "metadata": {
        "id": "xJ-D3tHlOuAI"
      },
      "execution_count": null,
      "outputs": []
    },
    {
      "cell_type": "code",
      "source": [
        "cv2_imshow(thresh1)"
      ],
      "metadata": {
        "id": "TcsnNcQ7O3uR"
      },
      "execution_count": null,
      "outputs": []
    }
  ],
  "metadata": {
    "colab": {
      "provenance": []
    },
    "kernelspec": {
      "display_name": "Python 3",
      "name": "python3"
    },
    "language_info": {
      "name": "python"
    }
  },
  "nbformat": 4,
  "nbformat_minor": 0
}