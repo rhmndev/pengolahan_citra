{
  "nbformat": 4,
  "nbformat_minor": 0,
  "metadata": {
    "colab": {
      "provenance": []
    },
    "kernelspec": {
      "name": "python3",
      "display_name": "Python 3"
    },
    "language_info": {
      "name": "python"
    }
  },
  "cells": [
    {
      "cell_type": "code",
      "source": [
        "import cv2\n",
        "import numpy as np\n",
        "import matplotlib.pyplot as plt\n",
        "from google.colab import files\n",
        "from google.colab.patches import cv2_imshow"
      ],
      "metadata": {
        "id": "jtSoradFPG1v"
      },
      "execution_count": 1,
      "outputs": []
    },
    {
      "cell_type": "code",
      "source": [
        "uplot = files.upload()"
      ],
      "metadata": {
        "id": "lN9yOMMGPVjr"
      },
      "execution_count": null,
      "outputs": []
    },
    {
      "cell_type": "code",
      "source": [
        "citra = cv2.imread('bocil.PNG')"
      ],
      "metadata": {
        "id": "Fq8-3-hBaKN_"
      },
      "execution_count": 21,
      "outputs": []
    },
    {
      "cell_type": "code",
      "source": [
        "cv2_imshow(citra)"
      ],
      "metadata": {
        "id": "zx8B-VIrKxt8"
      },
      "execution_count": null,
      "outputs": []
    },
    {
      "cell_type": "code",
      "source": [
        "img = cv2.cvtColor(citra, cv2.COLOR_RGB2GRAY)"
      ],
      "metadata": {
        "id": "xrPYI0divpf_"
      },
      "execution_count": 36,
      "outputs": []
    },
    {
      "cell_type": "code",
      "source": [
        "cv2_imshow(img)"
      ],
      "metadata": {
        "id": "37GbRqIArJC1"
      },
      "execution_count": null,
      "outputs": []
    },
    {
      "cell_type": "code",
      "source": [
        "#Filter untuk kontras\n",
        "kernel = np.array([[1,-1,1],\n",
        "                   [1,-1,1],\n",
        "                   [1,-1,1]])\n",
        "\n",
        "# fungsi filter2D() pada OpenCV untuk melakukan operasi linear filtering\n",
        "hasil1 = cv2.filter2D(src=img, ddepth=-1, kernel=kernel)\n",
        "cv2_imshow(hasil1)"
      ],
      "metadata": {
        "id": "hwrNRzs9aHwA"
      },
      "execution_count": null,
      "outputs": []
    },
    {
      "cell_type": "code",
      "source": [
        "#Filter untuk penajaman citra (sharpening)\n",
        "kernel = np.array([[0,-1,0],[-1,5,-1],[0,-1,0]])\n",
        "\n",
        "sharp = cv2.filter2D(src=hasil1, ddepth=-1, kernel=kernel)\n",
        "\n",
        "result = np.hstack((img,sharp))\n",
        "cv2_imshow(result)"
      ],
      "metadata": {
        "id": "qOeQyXaYmHiV"
      },
      "execution_count": null,
      "outputs": []
    },
    {
      "cell_type": "code",
      "source": [
        "#Filter untuk smoothing\n",
        "kernel = np.ones((7,7), np.float32)/49\n",
        "smooth = cv2.filter2D(src=hasil1, ddepth=-1, kernel=kernel)\n",
        "\n",
        "result = np.hstack((img,smooth))\n",
        "cv2_imshow(result)"
      ],
      "metadata": {
        "id": "rfBysV7NwJe2"
      },
      "execution_count": null,
      "outputs": []
    },
    {
      "cell_type": "code",
      "source": [
        "#Filter prewitt untuk deteksi tepi\n",
        "\n",
        "kernelx = np.array([[1,1,1],[0,0,0],[-1,-1,-1]])\n",
        "kernely = np.array([[-1,0,1],[-1,0,1],[-1,0,1]])\n",
        "\n",
        "prewittx = cv2.filter2D(hasil1, -1, kernelx)\n",
        "prewitty = cv2.filter2D(hasil1, -1, kernely)\n",
        "prewittxy = prewittx + prewitty"
      ],
      "metadata": {
        "id": "Iz6i9hFF2-iA"
      },
      "execution_count": 33,
      "outputs": []
    },
    {
      "cell_type": "code",
      "source": [
        "f = plt.figure(figsize=(10,5))\n",
        "\n",
        "plt.subplot(131),plt.imshow(prewittx,cmap = 'gray')\n",
        "plt.title('uint8'), plt.xticks([]), plt.yticks([])\n",
        "plt.subplot(132),plt.imshow(prewitty,cmap = 'gray')\n",
        "plt.title('float32'), plt.xticks([]), plt.yticks([])\n",
        "plt.subplot(133),plt.imshow(prewittxy,cmap = 'gray')\n",
        "plt.title('float64'), plt.xticks([]), plt.yticks([])\n",
        "plt.show()"
      ],
      "metadata": {
        "id": "ou3K96s1znA_"
      },
      "execution_count": null,
      "outputs": []
    },
    {
      "cell_type": "markdown",
      "source": [
        "https://learnopencv.com/image-filtering-using-convolution-in-opencv/\n",
        "\n",
        "https://towardsdatascience.com/image-processing-with-python-blurring-and-sharpening-for-beginners-3bcebec0583a\n",
        "\n",
        "https://code.tutsplus.com/tutorials/image-filtering-in-python--cms-29202"
      ],
      "metadata": {
        "id": "ivpF121OTTEZ"
      }
    }
  ]
}