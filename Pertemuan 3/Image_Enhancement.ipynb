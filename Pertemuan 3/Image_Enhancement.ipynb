{
  "cells": [
    {
      "cell_type": "code",
      "execution_count": null,
      "metadata": {
        "id": "6OzBKoRhxK0c"
      },
      "outputs": [],
      "source": [
        "import cv2\n",
        "import numpy as np\n",
        "import matplotlib.pyplot as plt\n",
        "from google.colab import files\n",
        "from google.colab.patches import cv2_imshow"
      ]
    },
    {
      "cell_type": "code",
      "execution_count": null,
      "metadata": {
        "id": "1rDz6B9myBwl"
      },
      "outputs": [],
      "source": [
        "uplot = files.upload()"
      ]
    },
    {
      "cell_type": "code",
      "execution_count": null,
      "metadata": {
        "id": "kjF4DdTPyLz4"
      },
      "outputs": [],
      "source": [
        "citra= cv2.imread('mata.JPG')"
      ]
    },
    {
      "cell_type": "code",
      "execution_count": null,
      "metadata": {
        "id": "IHMKAbzFyoAd"
      },
      "outputs": [],
      "source": [
        "citra_abu = cv2.imread('mata.JPG',cv2.IMREAD_GRAYSCALE)\n",
        "#citra_abu = cv2.cvtColor(citra, cv2.COLOR_BGR2GRAY)"
      ]
    },
    {
      "cell_type": "code",
      "source": [
        "hist,bins = np.histogram(citra.flatten(),256,[0,256])\n",
        "cdf = hist.cumsum()\n",
        "cdf_normalized = cdf * float(hist.max()) / cdf.max()\n",
        "\n",
        "plt.plot(cdf_normalized, color = 'b')\n",
        "plt.hist(citra.flatten(),256,[0,256], color = 'r')\n",
        "plt.xlim([0,256])\n",
        "plt.legend(('cdf','histogram'), loc = 'upper left')\n",
        "plt.show()"
      ],
      "metadata": {
        "id": "SIs2ZjAwosGA"
      },
      "execution_count": null,
      "outputs": []
    },
    {
      "cell_type": "code",
      "source": [
        "equ = cv2.equalizeHist(citra_abu)"
      ],
      "metadata": {
        "id": "9LFhyBEEsUZT"
      },
      "execution_count": null,
      "outputs": []
    },
    {
      "cell_type": "code",
      "source": [
        "result = np.hstack((citra_abu, equ))\n",
        "cv2_imshow(result)"
      ],
      "metadata": {
        "id": "IXDrNrJQtCE7"
      },
      "execution_count": null,
      "outputs": []
    },
    {
      "cell_type": "code",
      "source": [
        "hist,bins = np.histogram(equ.flatten(),256,[0,256])\n",
        "cdf = hist.cumsum()\n",
        "cdf_normalized = cdf * float(hist.max()) / cdf.max()\n",
        "\n",
        "plt.plot(cdf_normalized, color = 'b')\n",
        "plt.hist(equ.flatten(),256,[0,256], color = 'r')\n",
        "plt.xlim([0,256])\n",
        "plt.legend(('cdf','histogram'), loc = 'upper left')\n",
        "plt.show()"
      ],
      "metadata": {
        "id": "qAqQY14ZtCvX"
      },
      "execution_count": null,
      "outputs": []
    },
    {
      "cell_type": "markdown",
      "source": [
        "https://medium.com/@kyawsawhtoon/a-tutorial-to-histogram-equalization-497600f270e2"
      ],
      "metadata": {
        "id": "ofGYqOrFzG-X"
      }
    },
    {
      "cell_type": "code",
      "source": [
        "#log transform\n",
        "c = 255/(np.log(1 + np.max(citra_abu)))\n",
        "log_transformed = c * np.log(1 + citra_abu)\n",
        "\n",
        "# Specify the data type.\n",
        "log_transformed = np.array(log_transformed, dtype = np.uint8)\n",
        "\n",
        "result = np.hstack((citra_abu,log_transformed))\n",
        "cv2_imshow(result)"
      ],
      "metadata": {
        "id": "DnEu2njF1SQ6"
      },
      "execution_count": null,
      "outputs": []
    },
    {
      "cell_type": "code",
      "source": [
        "# menggunakan 4 nilai gamma\n",
        "for gamma in [1.2,1.2,1.2,1.2]:\n",
        "\t# menerapkan gamma correction.\n",
        "\tgamma_corrected = np.array(255*(citra_abu / 255) ** gamma, dtype = 'uint8')\n",
        "\n",
        "result = np.hstack((citra_abu, gamma_corrected))\n",
        "cv2_imshow(result)"
      ],
      "metadata": {
        "id": "Sy4cXG5H3M90"
      },
      "execution_count": null,
      "outputs": []
    },
    {
      "cell_type": "code",
      "source": [
        "#Contrast Stetching\n",
        "#Fungsi untuk memetakan tisp intensity level ke output intensity level.\n",
        "def pixelVal(pix, r1, s1, r2, s2):\n",
        "\tif (0 <= pix and pix <= r1):\n",
        "\t\treturn (s1 / r1)*pix\n",
        "\telif (r1 < pix and pix <= r2):\n",
        "\t\treturn ((s2 - s1)/(r2 - r1)) * (pix - r1) + s1\n",
        "\telse:\n",
        "\t\treturn ((255 - s2)/(255 - r2)) * (pix - r2) + s2\n",
        "\n",
        "# Define parameters.\n",
        "r1 = 70\n",
        "s1 = 100\n",
        "r2 = 140\n",
        "s2 = 255\n",
        "\n",
        "# Vectorize the function to apply it to each value in the Numpy array.\n",
        "pixelVal_vec = np.vectorize(pixelVal)\n",
        "\n",
        "# Apply contrast stretching.\n",
        "contrast_stretched = pixelVal_vec(citra_abu, r1, s1, r2, s2)\n",
        "\n",
        "result = np.hstack((citra_abu,contrast_stretched))\n",
        "cv2_imshow(result)"
      ],
      "metadata": {
        "id": "Yx9yWEZm3j1d"
      },
      "execution_count": null,
      "outputs": []
    },
    {
      "cell_type": "markdown",
      "source": [
        "https://www.geeksforgeeks.org/python-intensity-transformation-operations-on-images/"
      ],
      "metadata": {
        "id": "SW51jzI-4wWp"
      }
    },
    {
      "cell_type": "code",
      "source": [
        "citra = np.array([11,1,2,2,2,2,3,3,3,4,5,5,5,6,6,6,6,6,6,\n",
        "              7,7,7,7,8,8,8,9,11,11,11,12,12])\n",
        "\n",
        "# Creating histogram\n",
        "fig, ax = plt.subplots(figsize =(5, 3))\n",
        "ax.hist(citra, bins = 10, rwidth=0.8, color='blue', edgecolor='grey', linewidth=2)\n",
        "ax.grid(False)\n",
        "plt.show()"
      ],
      "metadata": {
        "id": "hM5XO2rR9pKK"
      },
      "execution_count": null,
      "outputs": []
    },
    {
      "cell_type": "markdown",
      "source": [
        "https://dsp.stackexchange.com/questions/27833/what-is-the-difference-between-mse-and-psnr-of-images\n",
        "\n",
        "https://www.researchgate.net/figure/Analysis-of-PSNR-MSE-and-SSIM-for-figure-6_tbl2_305451234\n",
        "\n",
        "https://www.programcreek.com/python/?CodeExample=compare+images\n",
        "\n",
        "https://www.scirp.org/journal/paperinformation.aspx?paperid=90911\n",
        "\n",
        "https://homepages.inf.ed.ac.uk/rbf/CVonline/LOCAL_COPIES/VELDHUIZEN/node18.html"
      ],
      "metadata": {
        "id": "gUVh8V7le6Kw"
      }
    }
  ],
  "metadata": {
    "colab": {
      "provenance": []
    },
    "kernelspec": {
      "display_name": "Python 3",
      "name": "python3"
    },
    "language_info": {
      "name": "python"
    }
  },
  "nbformat": 4,
  "nbformat_minor": 0
}