{
  "nbformat": 4,
  "nbformat_minor": 0,
  "metadata": {
    "colab": {
      "provenance": []
    },
    "kernelspec": {
      "name": "python3",
      "display_name": "Python 3"
    },
    "language_info": {
      "name": "python"
    }
  },
  "cells": [
    {
      "cell_type": "markdown",
      "source": [
        "# Histogram Citra Abu-abu"
      ],
      "metadata": {
        "id": "6nzFq6RbXQMm"
      }
    },
    {
      "cell_type": "code",
      "source": [
        "#Pustaka yang dibutuhkan\n",
        "import cv2\n",
        "import numpy as np\n",
        "import matplotlib.pyplot as plt\n",
        "from google.colab import files\n",
        "from google.colab.patches import cv2_imshow"
      ],
      "metadata": {
        "id": "LGuSUChMXQog"
      },
      "execution_count": 1,
      "outputs": []
    },
    {
      "cell_type": "code",
      "source": [
        "#Upload citra\n",
        "uplot = files.upload()"
      ],
      "metadata": {
        "id": "pOoxsyrIum0M"
      },
      "execution_count": null,
      "outputs": []
    },
    {
      "cell_type": "code",
      "source": [
        "#membaca citra\n",
        "citra = cv2.imread('bunga.png')"
      ],
      "metadata": {
        "id": "2lHmSQjTX8aL"
      },
      "execution_count": 56,
      "outputs": []
    },
    {
      "cell_type": "code",
      "source": [
        "cv2_imshow(citra)"
      ],
      "metadata": {
        "id": "vrchz1T-2MX4"
      },
      "execution_count": null,
      "outputs": []
    },
    {
      "cell_type": "code",
      "source": [
        "#ubah citra ke dalam citra abu2\n",
        "abu2 = cv2.cvtColor(citra, cv2.COLOR_BGR2GRAY)"
      ],
      "metadata": {
        "id": "aXLVdr3TWzzX"
      },
      "execution_count": 60,
      "outputs": []
    },
    {
      "cell_type": "code",
      "source": [
        "#Perataan histogram/histogram equalization\n",
        "perataan = cv2.equalizeHist(abu2)\n",
        "\n",
        "hist1 = cv2.calcHist([abu2],[0],None,[256],[0,256])\n",
        "hist2 = cv2.calcHist([perataan],[0],None,[256],[0,256])"
      ],
      "metadata": {
        "id": "0fp7rspaYI32"
      },
      "execution_count": 61,
      "outputs": []
    },
    {
      "cell_type": "code",
      "source": [
        "plt.subplot(221),plt.imshow(citra),plt.axis('off')\n",
        "#plt.subplot(221),plt.imshow(cv2.cvtColor(citra, cv2.COLOR_BGR2RGB)),plt.axis('off')\n",
        "plt.subplot(222),plt.plot(hist1)\n",
        "plt.subplot(223),plt.imshow(perataan,cmap='gray'),plt.axis('off')\n",
        "plt.subplot(224),plt.plot(hist2);"
      ],
      "metadata": {
        "id": "UzfY4VzvW37m"
      },
      "execution_count": null,
      "outputs": []
    },
    {
      "cell_type": "code",
      "source": [
        "plt.hist(abu2.ravel(),256,[0,256])\n",
        "plt.show()\n",
        "\n",
        "plt.hist(perataan.ravel(),256,[0,256])\n",
        "plt.show()"
      ],
      "metadata": {
        "id": "J7_VhxMUboBA"
      },
      "execution_count": null,
      "outputs": []
    },
    {
      "cell_type": "markdown",
      "source": [
        "# Histogram Citra Warna"
      ],
      "metadata": {
        "id": "1BuF6Z0_XPSK"
      }
    },
    {
      "cell_type": "code",
      "source": [
        "#memisahkan channel warna RGB\n",
        "channels = cv2.split(citra)\n",
        "\n",
        "#perataan histogram untuk setiap channel warna RGB\n",
        "equalized_channels = []\n",
        "for channel in channels:\n",
        "    equalized_channel = cv2.equalizeHist(channel)\n",
        "    equalized_channels.append(equalized_channel)\n",
        "\n",
        "#Gabung hasil perataan\n",
        "equalized_image = cv2.merge(equalized_channels)"
      ],
      "metadata": {
        "id": "uWtULi-FRUMU"
      },
      "execution_count": 64,
      "outputs": []
    },
    {
      "cell_type": "code",
      "source": [
        "for i, col in enumerate(['r', 'g', 'b']):\n",
        "    hist = cv2.calcHist([citra], [i], None, [256], [0, 256])\n",
        "    plt.subplot(223)\n",
        "    plt.title('Sebelum Perataan')\n",
        "    plt.plot(hist, color = col)\n",
        "    hist2 = cv2.calcHist([equalized_image], [i], None, [256], [0, 256])\n",
        "    plt.subplot(224)\n",
        "    plt.title('Sesudah Perataan')\n",
        "    plt.plot(hist2, color = col)\n",
        "\n",
        "\n",
        "    plt.tight_layout()"
      ],
      "metadata": {
        "id": "jrc3et6hVGFc"
      },
      "execution_count": null,
      "outputs": []
    },
    {
      "cell_type": "code",
      "source": [
        "for i, col in enumerate(['r', 'g', 'b']):\n",
        "    hist = cv2.calcHist([citra], [i], None, [256], [0, 256])\n",
        "    plt.subplot(221)\n",
        "    plt.title('Color Histogram')\n",
        "    plt.plot(hist, color = col)\n",
        "    plt.xlim([0, 256])\n",
        "\n",
        "    hist2 = cv2.calcHist([equalized_image], [i], None, [256], [0, 256])\n",
        "    plt.subplot(222)\n",
        "    plt.title('Color Histogram')\n",
        "    plt.plot(hist2, color = col)\n",
        "    plt.xlim([0, 256])\n",
        "\n",
        "    plt.tight_layout()\n",
        "    plt.show()"
      ],
      "metadata": {
        "id": "e8XTEqbVZgAg"
      },
      "execution_count": null,
      "outputs": []
    },
    {
      "cell_type": "code",
      "source": [
        "plt.subplot(1, 2, 1)\n",
        "plt.title(\"Citra Asli\")\n",
        "plt.imshow(cv2.cvtColor(citra, cv2.COLOR_RGB2BGR))\n",
        "plt.axis('off')\n",
        "\n",
        "plt.subplot(1, 2, 2)\n",
        "plt.title(\"Citra Hasil\")\n",
        "plt.imshow(equalized_image, cmap='gray')\n",
        "plt.axis('off')\n",
        "plt.show()"
      ],
      "metadata": {
        "id": "TVcEEA-5ZH1N"
      },
      "execution_count": null,
      "outputs": []
    },
    {
      "cell_type": "code",
      "source": [
        "cv2_imshow(equalized_image)"
      ],
      "metadata": {
        "id": "amXc8y5cdwXL"
      },
      "execution_count": null,
      "outputs": []
    }
  ]
}